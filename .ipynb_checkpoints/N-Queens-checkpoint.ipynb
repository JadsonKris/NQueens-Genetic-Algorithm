{
 "cells": [
  {
   "cell_type": "code",
   "execution_count": 4,
   "metadata": {},
   "outputs": [],
   "source": [
    "import numpy as np\n",
    "from geneticalgorithm import geneticalgorithm as ga\n",
    "import time"
   ]
  },
  {
   "cell_type": "code",
   "execution_count": 5,
   "metadata": {},
   "outputs": [],
   "source": [
    "def sum_left_diagonal(board, i, j):\n",
    "    total = 0\n",
    "    while (i  < len(board)) and (j >= 0):\n",
    "        total += board[i][j]\n",
    "        i += 1\n",
    "        j -= 1\n",
    "    return total\n",
    "\n",
    "def sum_right_diagonal(board, i, j):\n",
    "    total = 0\n",
    "    while (i  < len(board)) and (j < len(board)):\n",
    "        total += board[i][j]\n",
    "        i += 1\n",
    "        j += 1\n",
    "    return total\n",
    "\n",
    "def conflict(board):\n",
    "    colum_sum = np.sum(board, axis = 0)\n",
    "    line_sum =  np.sum(board, axis = 1)\n",
    "    total = 0\n",
    "    for colum, line in zip(colum_sum, line_sum):\n",
    "        if colum != 1:\n",
    "            total += colum\n",
    "        if line != 1:\n",
    "            total += line\n",
    "        \n",
    "    for i in range(len(board)):\n",
    "        left = sum_left_diagonal(board, i, len(board)-1)\n",
    "        right = sum_right_diagonal(board, i, 0)\n",
    "        \n",
    "        if left != 1: total += left\n",
    "        if right != 1: total += right\n",
    "    \n",
    "    for i in range(1, len(board)-1):\n",
    "        left = sum_left_diagonal(board, 0, i)\n",
    "        right = sum_right_diagonal(board, 0, i)\n",
    "        \n",
    "        if left != 1: total += left\n",
    "        if right != 1: total += right\n",
    "    \n",
    "    return total"
   ]
  },
  {
   "cell_type": "code",
   "execution_count": 6,
   "metadata": {},
   "outputs": [],
   "source": [
    "def create_board(list):\n",
    "    size = len(list)\n",
    "    board = np.zeros((size,size))\n",
    "    for i in range(size):\n",
    "        board[int(list[i])][i] = 1\n",
    "    \n",
    "    return board\n",
    "\n",
    "def f(gene):\n",
    "    board = create_board(gene)\n",
    "    return conflict(board)\n",
    "\n",
    "def GA(n, max_iter, population):\n",
    "    varbound = np.array([[0,n-1]]*n)\n",
    "    algorithm_param = {'max_num_iteration': max_iter,\n",
    "                   'population_size':population,\n",
    "                   'mutation_probability':0.4,\n",
    "                   'elit_ratio': 0.01,\n",
    "                   'crossover_probability': 0.5,\n",
    "                   'parents_portion': 0.8,\n",
    "                   'crossover_type':'two_point',\n",
    "                   'max_iteration_without_improv':None}\n",
    "    model=ga(function=f,dimension=n,variable_type='int',variable_boundaries=varbound, algorithm_parameters=algorithm_param)\n",
    "    model.run()\n",
    "    return create_board(model.output_dict['variable']), model.output_dict['variable']"
   ]
  },
  {
   "cell_type": "code",
   "execution_count": 8,
   "metadata": {},
   "outputs": [
    {
     "name": "stdout",
     "output_type": "stream",
     "text": [
      " The best solution found:                                                                           \n",
      " [5. 7. 1. 3. 0. 6. 4. 2.]\n",
      "\n",
      " Objective function:\n",
      " 0.0\n"
     ]
    },
    {
     "data": {
      "image/png": "[encoded data removed]",
      "text/plain": [
       "<Figure size 432x288 with 1 Axes>"
      ]
     },
     "metadata": {
      "needs_background": "light"
     },
     "output_type": "display_data"
    },
    {
     "name": "stdout",
     "output_type": "stream",
     "text": [
      "[[0. 0. 0. 0. 1. 0. 0. 0.]\n",
      " [0. 0. 1. 0. 0. 0. 0. 0.]\n",
      " [0. 0. 0. 0. 0. 0. 0. 1.]\n",
      " [0. 0. 0. 1. 0. 0. 0. 0.]\n",
      " [0. 0. 0. 0. 0. 0. 1. 0.]\n",
      " [1. 0. 0. 0. 0. 0. 0. 0.]\n",
      " [0. 0. 0. 0. 0. 1. 0. 0.]\n",
      " [0. 1. 0. 0. 0. 0. 0. 0.]]\n",
      "Tempo de execução:  11.346931219100952\n"
     ]
    }
   ],
   "source": [
    "inicio = time.time()\n",
    "result = GA(8, 300, 300)\n",
    "fim = time.time()\n",
    "print(result[0])\n",
    "print(\"Tempo de execução: \", fim - inicio)"
   ]
  },
  {
   "cell_type": "code",
   "execution_count": null,
   "metadata": {},
   "outputs": [
    {
     "name": "stdout",
     "output_type": "stream",
     "text": [
      "||||||||||||||||||||||||||||||||||||||____________ 75.6% GA is running..."
     ]
    }
   ],
   "source": [
    "inicio = time.time()\n",
    "result = GA(10, 500, 1000)\n",
    "fim = time.time()\n",
    "print(result[0])\n",
    "print(\"Tempo de execução: \", fim - inicio)"
   ]
  },
  {
   "cell_type": "code",
   "execution_count": 51,
   "metadata": {},
   "outputs": [
    {
     "name": "stdout",
     "output_type": "stream",
     "text": [
      " The best solution found:                                                                           \n",
      " [ 9.  5.  3. 11.  4. 10. 12.  6.  2.  7.  1.  8.]\n",
      "\n",
      " Objective function:\n",
      " 0.0\n"
     ]
    },
    {
     "data": {
      "image/png": "[encoded data removed]",
      "text/plain": [
       "<Figure size 432x288 with 1 Axes>"
      ]
     },
     "metadata": {
      "needs_background": "light"
     },
     "output_type": "display_data"
    },
    {
     "name": "stdout",
     "output_type": "stream",
     "text": [
      "[[0. 0. 0. 0. 0. 0. 0. 0. 0. 0. 1. 0.]\n",
      " [0. 0. 0. 0. 0. 0. 0. 0. 1. 0. 0. 0.]\n",
      " [0. 0. 1. 0. 0. 0. 0. 0. 0. 0. 0. 0.]\n",
      " [0. 0. 0. 0. 1. 0. 0. 0. 0. 0. 0. 0.]\n",
      " [0. 1. 0. 0. 0. 0. 0. 0. 0. 0. 0. 0.]\n",
      " [0. 0. 0. 0. 0. 0. 0. 1. 0. 0. 0. 0.]\n",
      " [0. 0. 0. 0. 0. 0. 0. 0. 0. 1. 0. 0.]\n",
      " [0. 0. 0. 0. 0. 0. 0. 0. 0. 0. 0. 1.]\n",
      " [1. 0. 0. 0. 0. 0. 0. 0. 0. 0. 0. 0.]\n",
      " [0. 0. 0. 0. 0. 1. 0. 0. 0. 0. 0. 0.]\n",
      " [0. 0. 0. 1. 0. 0. 0. 0. 0. 0. 0. 0.]\n",
      " [0. 0. 0. 0. 0. 0. 1. 0. 0. 0. 0. 0.]]\n",
      "Tempo de execução:  145.34394073486328\n"
     ]
    }
   ],
   "source": [
    "inicio = time.time()\n",
    "result = GA(12, 500, 1500)\n",
    "fim = time.time()\n",
    "print(result[0])\n",
    "print(\"Tempo de execução: \", fim - inicio)"
   ]
  },
  {
   "cell_type": "code",
   "execution_count": 59,
   "metadata": {},
   "outputs": [
    {
     "name": "stdout",
     "output_type": "stream",
     "text": [
      "Gene : [9, 5, 3, 11, 4, 10, 12, 6, 2, 7, 1, 8]\n",
      "\n",
      "Tabuleiro: \n",
      "[[0. 0. 0. 0. 0. 0. 0. 0. 0. 0. 1. 0.]\n",
      " [0. 0. 0. 0. 0. 0. 0. 0. 1. 0. 0. 0.]\n",
      " [0. 0. 1. 0. 0. 0. 0. 0. 0. 0. 0. 0.]\n",
      " [0. 0. 0. 0. 1. 0. 0. 0. 0. 0. 0. 0.]\n",
      " [0. 1. 0. 0. 0. 0. 0. 0. 0. 0. 0. 0.]\n",
      " [0. 0. 0. 0. 0. 0. 0. 1. 0. 0. 0. 0.]\n",
      " [0. 0. 0. 0. 0. 0. 0. 0. 0. 1. 0. 0.]\n",
      " [0. 0. 0. 0. 0. 0. 0. 0. 0. 0. 0. 1.]\n",
      " [1. 0. 0. 0. 0. 0. 0. 0. 0. 0. 0. 0.]\n",
      " [0. 0. 0. 0. 0. 1. 0. 0. 0. 0. 0. 0.]\n",
      " [0. 0. 0. 1. 0. 0. 0. 0. 0. 0. 0. 0.]\n",
      " [0. 0. 0. 0. 0. 0. 1. 0. 0. 0. 0. 0.]]\n"
     ]
    }
   ],
   "source": [
    "lista = [ 9,  5,  3, 11,  4, 10, 12,  6,  2,  7,  1,  8]\n",
    "print(\"Gene :\", lista)\n",
    "print(\"\\nTabuleiro: \")\n",
    "print(create_board(lista))"
   ]
  },
  {
   "cell_type": "code",
   "execution_count": null,
   "metadata": {},
   "outputs": [],
   "source": []
  }
 ],
 "metadata": {
  "kernelspec": {
   "display_name": "Python 3",
   "language": "python",
   "name": "python3"
  },
  "language_info": {
   "codemirror_mode": {
    "name": "ipython",
    "version": 3
   },
   "file_extension": ".py",
   "mimetype": "text/x-python",
   "name": "python",
   "nbconvert_exporter": "python",
   "pygments_lexer": "ipython3",
   "version": "3.8.5"
  }
 },
 "nbformat": 4,
 "nbformat_minor": 4
}
